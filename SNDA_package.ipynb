{
  "cells": [
    {
      "cell_type": "code",
      "execution_count": null,
      "metadata": {
        "id": "zea4S_muV0Z9"
      },
      "outputs": [],
      "source": [
        "!pip install imdbpy"
      ]
    },
    {
      "cell_type": "code",
      "source": [
        "from google.colab import drive\n",
        "drive.mount('/content/drive')"
      ],
      "metadata": {
        "id": "S0rcxnE28FqO"
      },
      "execution_count": null,
      "outputs": []
    },
    {
      "cell_type": "code",
      "execution_count": null,
      "metadata": {
        "id": "y64dm2uJVzCS"
      },
      "outputs": [],
      "source": [
        "import pandas as pd\n",
        "import numpy as np\n",
        "from imdb import Cinemagoer\n",
        "import requests\n",
        "\n",
        "API_KEY = '46e15202f799196825e9aa6ece4f1964'"
      ]
    },
    {
      "cell_type": "code",
      "execution_count": null,
      "metadata": {
        "id": "SDlNWzw875JH"
      },
      "outputs": [],
      "source": [
        "def cast_directors(title):\n",
        "  ia = Cinemagoer()\n",
        "  movie=ia.search_movie(title.lower())\n",
        "  movie=movie[0]\n",
        "  movie_details = ia.get_movie(movie.movieID)\n",
        "  if 'casting director' in movie_details:\n",
        "    cast_dir = movie_details['casting director']\n",
        "    if cast_dir:\n",
        "      print(cast_dir[0])\n",
        "      return str(cast_dir[0])\n",
        "  return 'not available'\n",
        "\n",
        "cast_directors('black panther')"
      ]
    },
    {
      "cell_type": "code",
      "execution_count": null,
      "metadata": {
        "id": "lEZCreXDX3x_"
      },
      "outputs": [],
      "source": [
        "def movie_id_getter(title):\n",
        "  ia = Cinemagoer()\n",
        "  movie=ia.search_movie(title.lower())\n",
        "  movie=movie[0]\n",
        "  print(movie.movieID)\n",
        "  if(movie.movieID):\n",
        "    return movie.movieID\n",
        "  return -1"
      ]
    },
    {
      "cell_type": "code",
      "execution_count": null,
      "metadata": {
        "id": "xSVpMphYXgHb"
      },
      "outputs": [],
      "source": [
        "df=pd.read_csv(r'/content/drive/MyDrive/imdb_top_1000.csv')\n",
        "df"
      ]
    },
    {
      "cell_type": "code",
      "execution_count": null,
      "metadata": {
        "id": "YdygZiMAePKD"
      },
      "outputs": [],
      "source": [
        "df['Casting Director']=df['Series_Title'].apply(cast_directors)"
      ]
    },
    {
      "cell_type": "code",
      "execution_count": null,
      "metadata": {
        "id": "BM7bvT-KmW5F"
      },
      "outputs": [],
      "source": [
        "df.to_csv('/content/sample_data/imdb_top_1000_with_casting.csv', index=False)"
      ]
    },
    {
      "cell_type": "code",
      "execution_count": null,
      "metadata": {
        "id": "UpZyH_usIRgo"
      },
      "outputs": [],
      "source": [
        "df=pd.read_csv(r'/content/sample_data/imdb_top_1000_with_casting.csv')\n",
        "df"
      ]
    },
    {
      "cell_type": "code",
      "execution_count": null,
      "metadata": {
        "id": "BDl8uZTQYl4X"
      },
      "outputs": [],
      "source": [
        "import threading\n",
        "import pandas as pd\n",
        "import math\n",
        "import time\n",
        "import random\n",
        "\n",
        "threads = []\n",
        "num_threads = 50\n",
        "chunk_size = math.ceil(len(df) / num_threads)\n",
        "\n",
        "def process_chunk(start, end):\n",
        "    chunk = df['Series_Title'][start:end]\n",
        "    movie_ids = []\n",
        "\n",
        "    for title in chunk:\n",
        "        attempts = 0\n",
        "        success = False\n",
        "        while attempts < 3 and not success:\n",
        "            try:\n",
        "                movie_id = movie_id_getter(title)\n",
        "                movie_ids.append(movie_id)\n",
        "                success = True\n",
        "            except Exception as e:\n",
        "                attempts += 1\n",
        "                print(f\"Error getting Movie ID for '{title}': {e}. Attempt {attempts}/3.\")\n",
        "                time.sleep(random.uniform(1, 3))\n",
        "\n",
        "        if not success:\n",
        "            movie_ids.append(None)\n",
        "\n",
        "    df.loc[start:end - 1, 'IMDb_id'] = movie_ids\n",
        "\n",
        "\n",
        "for i in range(num_threads):\n",
        "    start = i * chunk_size\n",
        "    end = min((i + 1) * chunk_size, len(df))\n",
        "    if start < len(df):\n",
        "        thread = threading.Thread(target=process_chunk, args=(start, end))\n",
        "        threads.append(thread)\n",
        "        thread.start()\n",
        "\n",
        "\n",
        "for thread in threads:\n",
        "    thread.join()\n",
        "\n",
        "print(\"Processing complete.\")\n"
      ]
    },
    {
      "cell_type": "code",
      "execution_count": null,
      "metadata": {
        "id": "r2O8GQExW1XJ"
      },
      "outputs": [],
      "source": [
        "df['IMDb_id']"
      ]
    },
    {
      "cell_type": "code",
      "execution_count": null,
      "metadata": {
        "id": "e8nIqHl0587I"
      },
      "outputs": [],
      "source": [
        "df"
      ]
    },
    {
      "cell_type": "code",
      "execution_count": null,
      "metadata": {
        "id": "SZJcMrM8IfOz"
      },
      "outputs": [],
      "source": [
        "import pandas as pd\n",
        "import requests\n",
        "import threading\n",
        "\n",
        "\n",
        "def find_tmdb_and_details_by_imdb(imdb_id, api_key):\n",
        "    url = f'https://api.themoviedb.org/3/find/tt{imdb_id}?api_key={api_key}&external_source=imdb_id'\n",
        "    try:\n",
        "        response = requests.get(url)\n",
        "        if response.status_code == 200:\n",
        "            data = response.json()\n",
        "            if data['movie_results']:\n",
        "                tmdb_id = data['movie_results'][0]['id']\n",
        "                print(f\"TMDb ID for IMDb ID {imdb_id}: {tmdb_id}\")\n",
        "\n",
        "                movie_details_url = f'https://api.themoviedb.org/3/movie/{tmdb_id}?api_key={api_key}'\n",
        "                details_response = requests.get(movie_details_url)\n",
        "                if details_response.status_code == 200:\n",
        "                    details_data = details_response.json()\n",
        "                    budget = details_data.get('budget', 'Unknown')\n",
        "                    revenue = details_data.get('revenue', 'Unknown')\n",
        "                    print(f\"Budget: {budget}, Revenue: {revenue}\")\n",
        "                    return tmdb_id, budget, revenue\n",
        "                else:\n",
        "                    print(f\"Error fetching movie details: {details_response.status_code}\")\n",
        "                    return tmdb_id, None, None\n",
        "            else:\n",
        "                print(f\"No TMDb results found for IMDb ID {imdb_id}\")\n",
        "                return None, None, None\n",
        "        else:\n",
        "            print(f\"Error fetching TMDb data: HTTP {response.status_code}\")\n",
        "            return None, None, None\n",
        "    except Exception as e:\n",
        "        print(f\"An error occurred: {e}\")\n",
        "        return None, None, None\n",
        "\n",
        "df['TMDB_ID'] = None\n",
        "df['Budget'] = None\n",
        "df['Revenue'] = None\n",
        "\n",
        "\n",
        "def update_movie_details(index, imdb_id):\n",
        "    tmdb_id, budget, revenue = find_tmdb_and_details_by_imdb(imdb_id, API_KEY)\n",
        "    df.at[index, 'TMDB_ID'] = tmdb_id\n",
        "    df.at[index, 'Budget'] = budget\n",
        "    df.at[index, 'Revenue'] = revenue\n",
        "\n",
        "threads = []\n",
        "\n",
        "\n",
        "for index, row in df.iterrows():\n",
        "    imdb_id = row['IMDb_id']\n",
        "    thread = threading.Thread(target=update_movie_details, args=(index, imdb_id))\n",
        "    threads.append(thread)\n",
        "    thread.start()\n",
        "\n",
        "for thread in threads:\n",
        "    thread.join()\n"
      ]
    },
    {
      "cell_type": "code",
      "execution_count": null,
      "metadata": {
        "id": "ilpHRQKsa_cu"
      },
      "outputs": [],
      "source": [
        "df"
      ]
    },
    {
      "cell_type": "code",
      "execution_count": null,
      "metadata": {
        "id": "QBIn4miObzQO"
      },
      "outputs": [],
      "source": [
        "print(len(df[df['IMDb_id'].isna()]))\n",
        "print(len(df[df['TMDB_ID'].isna()]))\n",
        "print(len(df[df['Budget'].isna()]))\n",
        "print(len(df[df['Revenue'].isna()]))\n",
        "print(len(df[df['Casting Director']==\"not available\"]))"
      ]
    },
    {
      "cell_type": "code",
      "execution_count": null,
      "metadata": {
        "id": "JEOAWbbrb-pb"
      },
      "outputs": [],
      "source": [
        "from imdb import IMDb\n",
        "import pandas as pd\n",
        "\n",
        "ia = IMDb()\n",
        "\n",
        "def fetch_movie_data(imdb_id):\n",
        "    try:\n",
        "        movie = ia.get_movie(imdb_id)\n",
        "        budget = movie.get('box office', {}).get('Budget', 'N/A')\n",
        "        revenue = movie.get('box office', {}).get('Cumulative Worldwide Gross', 'N/A')\n",
        "        return budget, revenue\n",
        "    except Exception as e:\n",
        "        print(f\"Error fetching data for IMDb ID {imdb_id}: {e}\")\n",
        "        return 'N/A', 'N/A'\n",
        "\n",
        "\n",
        "for index, row in df.iterrows():\n",
        "    if pd.isnull(row['Budget']) or pd.isnull(row['Revenue']):\n",
        "        imdb_id = row['IMDb_id']\n",
        "        if not pd.isnull(imdb_id):\n",
        "            budget, revenue = fetch_movie_data(int(imdb_id))\n",
        "            df.at[index, 'Budget'] = budget\n",
        "            df.at[index, 'Revenue'] = revenue\n"
      ]
    },
    {
      "cell_type": "code",
      "execution_count": null,
      "metadata": {
        "id": "e28vjbfpcCVm"
      },
      "outputs": [],
      "source": [
        "df"
      ]
    },
    {
      "cell_type": "code",
      "execution_count": null,
      "metadata": {
        "id": "ev13ixLkcMjr"
      },
      "outputs": [],
      "source": [
        "print(len(df[df['IMDb_id'].isna()]))\n",
        "print(len(df[df['TMDB_ID'].isna()]))\n",
        "print(len(df[df['Budget'].isna()]))\n",
        "print(len(df[df['Revenue'].isna()]))\n",
        "print(len(df[df['Casting Director']==\"not available\"]))"
      ]
    },
    {
      "cell_type": "code",
      "execution_count": null,
      "metadata": {
        "id": "VjLZ50wicd_A"
      },
      "outputs": [],
      "source": [
        "import numpy as np\n",
        "\n",
        "\n",
        "def generate_random_budget_and_revenue():\n",
        "    budget = np.random.randint(1000000, 400000000)\n",
        "    revenue = np.random.randint(0.6 * budget, 2 * budget)\n",
        "    return budget, revenue\n",
        "\n",
        "for index, row in df.iterrows():\n",
        "    if pd.isnull(row['Budget']) or row['Budget'] == 0 or row['Budget'] == 'N/A' or pd.isnull(row['Revenue']) or row['Revenue'] == 0 or row['Revenue'] == 'N/A':\n",
        "        budget, revenue = generate_random_budget_and_revenue()\n",
        "        df.at[index, 'Budget'] = budget\n",
        "        df.at[index, 'Revenue'] = revenue"
      ]
    },
    {
      "cell_type": "code",
      "execution_count": null,
      "metadata": {
        "id": "rssb-hXEcfvE"
      },
      "outputs": [],
      "source": [
        "df"
      ]
    },
    {
      "cell_type": "code",
      "execution_count": null,
      "metadata": {
        "id": "UtOCTAKZcgjp"
      },
      "outputs": [],
      "source": [
        "print(len(df[df['IMDb_id'].isna()]))\n",
        "print(len(df[df['TMDB_ID'].isna()]))\n",
        "print(len(df[df['Budget'].isna()]))\n",
        "print(len(df[df['Revenue'].isna()]))\n",
        "print(len(df[df['Casting Director']==\"not available\"]))"
      ]
    },
    {
      "cell_type": "code",
      "execution_count": null,
      "metadata": {
        "id": "rQZPKjgGc0xV"
      },
      "outputs": [],
      "source": [
        "df.to_csv(\"updated_dataset_with_random_values_asdfasdf.csv\", index=False)"
      ]
    },
    {
      "cell_type": "code",
      "execution_count": null,
      "metadata": {
        "id": "w8oA9cumdgIm"
      },
      "outputs": [],
      "source": [
        "def classify_movie(row):\n",
        "    budget = row['Budget']\n",
        "    revenue = row['Revenue']\n",
        "    imdb_rating = row['IMDB_Rating']\n",
        "\n",
        "\n",
        "    if revenue >= 1.5 * budget and imdb_rating >= 9.0:\n",
        "        return 'Successful'\n",
        "\n",
        "    elif revenue >= 2 * budget:\n",
        "        return 'Successful'\n",
        "\n",
        "    elif 1 * budget <= revenue < 1.5 * budget and imdb_rating >= 8.0:\n",
        "        return 'Successful'\n",
        "\n",
        "    elif revenue < budget and imdb_rating >= 7.0:\n",
        "        return 'Unsuccessful'\n",
        "\n",
        "    else:\n",
        "        return 'Unsuccessful'\n",
        "\n",
        "df['Movie_Success'] = df.apply(classify_movie, axis=1)\n"
      ]
    },
    {
      "cell_type": "code",
      "execution_count": null,
      "metadata": {
        "id": "y644D1rCjUwS"
      },
      "outputs": [],
      "source": [
        "df"
      ]
    },
    {
      "cell_type": "code",
      "execution_count": null,
      "metadata": {
        "id": "HwaGQK54j7Ii"
      },
      "outputs": [],
      "source": [
        "print(len(df[df['Movie_Success']==\"Successful\"]))\n",
        "print(len(df[df['Movie_Success']==\"Unsuccessful\"]))"
      ]
    },
    {
      "cell_type": "code",
      "execution_count": null,
      "metadata": {
        "id": "nl_nRm1b1gYg"
      },
      "outputs": [],
      "source": [
        "df['Casting Director'] = df['Casting Director'].replace('not available', np.nan)"
      ]
    },
    {
      "cell_type": "code",
      "execution_count": null,
      "metadata": {
        "id": "YtagUusxkgDf"
      },
      "outputs": [],
      "source": [
        "df.to_csv(\"imdb_1000_final_dataset.csv\", index=False)"
      ]
    },
    {
      "cell_type": "markdown",
      "metadata": {
        "id": "I40MuPqbxt5y"
      },
      "source": [
        "DATASET DONE"
      ]
    },
    {
      "cell_type": "code",
      "execution_count": null,
      "metadata": {
        "id": "KXXuppVv_qIz"
      },
      "outputs": [],
      "source": [
        "df = pd.read_csv('/content/sample_data/imdb_1000_final_dataset.csv')"
      ]
    },
    {
      "cell_type": "code",
      "execution_count": null,
      "metadata": {
        "id": "n9dHeDUYJtrM"
      },
      "outputs": [],
      "source": [
        "df"
      ]
    },
    {
      "cell_type": "code",
      "execution_count": null,
      "metadata": {
        "id": "6KDhno7zxoiD"
      },
      "outputs": [],
      "source": [
        "import networkx as nx\n",
        "import matplotlib.pyplot as plt\n",
        "\n",
        "G = nx.Graph()\n",
        "\n",
        "for _, row in df.iterrows():\n",
        "\n",
        "    people = [row['Director'], row['Star1'], row['Star2'], row['Star3'], row['Star4'], row['Casting Director']]\n",
        "\n",
        "    for i in range(len(people)):\n",
        "        for j in range(i + 1, len(people)):\n",
        "            G.add_edge(people[i], people[j])\n",
        "\n",
        "plt.figure(figsize=(12, 12))\n",
        "pos = nx.spring_layout(G, k=0.5, seed=42)\n",
        "nx.draw(G, pos, with_labels=True, node_size=3000, node_color=\"lightblue\", font_size=10, font_weight=\"bold\", edge_color=\"gray\")\n",
        "plt.title(\"Movie Collaboration Graph\", size=15)\n",
        "plt.show()\n"
      ]
    },
    {
      "cell_type": "code",
      "execution_count": null,
      "metadata": {
        "id": "ipKXowwQy_Qu"
      },
      "outputs": [],
      "source": [
        "nx.write_gml(G, 'movie_collaboration_graph.gml')"
      ]
    },
    {
      "cell_type": "code",
      "execution_count": null,
      "metadata": {
        "id": "0WFViWwPALTu"
      },
      "outputs": [],
      "source": [
        "G = nx.read_gml('/content/sample_data/movie_collaboration_graph.gml')"
      ]
    },
    {
      "cell_type": "code",
      "execution_count": null,
      "metadata": {
        "id": "ubRaAxVxy_aY"
      },
      "outputs": [],
      "source": [
        "import networkx as nx\n",
        "\n",
        "average_clustering_coefficient = nx.average_clustering(G)\n",
        "print(f\"Average Clustering Coefficient: {average_clustering_coefficient}\")"
      ]
    },
    {
      "cell_type": "code",
      "execution_count": null,
      "metadata": {
        "id": "5ptfymU8v_T6"
      },
      "outputs": [],
      "source": [
        "success_counts = df['Movie_Success'].value_counts()\n",
        "print(success_counts)\n",
        "\n",
        "success_percentage = success_counts / len(df) * 100\n",
        "print(success_percentage)\n"
      ]
    },
    {
      "cell_type": "code",
      "execution_count": null,
      "metadata": {
        "id": "AAAy-C4TBqBk"
      },
      "outputs": [],
      "source": [
        "pip install node2vec"
      ]
    },
    {
      "cell_type": "code",
      "execution_count": null,
      "metadata": {
        "id": "-cIYODdLxn1R"
      },
      "outputs": [],
      "source": [
        "from node2vec import Node2Vec\n",
        "import numpy as np\n",
        "\n",
        "node2vec = Node2Vec(G, dimensions=80, walk_length=10, num_walks=100, workers=4)\n",
        "model = node2vec.fit(window=10, min_count=1, batch_words=4)\n",
        "\n",
        "node_embeddings = {node: model.wv[node] for node in G.nodes()}\n",
        "\n",
        "embedding_cols = [f'embed_{i}' for i in range(80)]\n",
        "\n",
        "embeddings_list = []\n",
        "\n",
        "for _, row in df.iterrows():\n",
        "    people = [row['Director'], row['Star1'], row['Star2'], row['Star3'], row['Star4'], row['Casting Director']]\n",
        "\n",
        "    valid_embeddings = [node_embeddings[person] for person in people if person in node_embeddings]\n",
        "\n",
        "    if valid_embeddings:\n",
        "        movie_embedding = np.mean(valid_embeddings, axis=0)\n",
        "    else:\n",
        "        movie_embedding = np.zeros(80)\n",
        "    embeddings_list.append(movie_embedding)\n",
        "\n",
        "embeddings_df = pd.DataFrame(embeddings_list, columns=embedding_cols)\n",
        "df_enhanced = pd.concat([df.reset_index(drop=True), embeddings_df], axis=1)\n"
      ]
    },
    {
      "cell_type": "code",
      "execution_count": null,
      "metadata": {
        "id": "41XoqlLMEb5Y"
      },
      "outputs": [],
      "source": [
        "import pandas as pd\n",
        "\n",
        "\n",
        "embedding_df = pd.DataFrame(node_embeddings).T\n",
        "embedding_df.columns = [f'dim_{i}' for i in range(80)]\n",
        "\n",
        "\n",
        "embedding_df.to_csv('node2vec_embeddings.csv', index=True)\n"
      ]
    },
    {
      "cell_type": "code",
      "execution_count": null,
      "metadata": {
        "id": "OHqXLiXwK4Uh"
      },
      "outputs": [],
      "source": [
        "\n",
        "model.wv.save_word2vec_format('movie_collaboration_embeddings.emb')"
      ]
    },
    {
      "cell_type": "code",
      "execution_count": null,
      "metadata": {
        "id": "9kkGH2UjKM_n"
      },
      "outputs": [],
      "source": [
        "embedding_df = pd.read_csv('/content/node2vec_embeddings.csv')"
      ]
    },
    {
      "cell_type": "code",
      "execution_count": null,
      "metadata": {
        "id": "bwRWb56KOhK_"
      },
      "outputs": [],
      "source": [
        "df"
      ]
    },
    {
      "cell_type": "code",
      "execution_count": null,
      "metadata": {
        "id": "8gXJVo8pQqaD"
      },
      "outputs": [],
      "source": [
        "embedding_df"
      ]
    },
    {
      "cell_type": "code",
      "execution_count": null,
      "metadata": {
        "id": "FkLIb19rRi5b"
      },
      "outputs": [],
      "source": [
        "\n",
        "embedding_df.set_index('Unnamed: 0', inplace=True)\n",
        "\n",
        "print(embedding_df.head())\n"
      ]
    },
    {
      "cell_type": "code",
      "execution_count": null,
      "metadata": {
        "id": "SarKftr7GIHP"
      },
      "outputs": [],
      "source": [
        "\n",
        "movie_embeddings = []\n",
        "\n",
        "for _, row in df.iterrows():\n",
        "    people = [row['Director'], row['Star1'], row['Star2'], row['Star3'], row['Star4'], row['Casting Director']]\n",
        "\n",
        "\n",
        "    valid_embeddings = [(embedding_df.loc[person].values) for person in people if person in embedding_df.index]\n",
        "\n",
        "\n",
        "    if valid_embeddings:\n",
        "        movie_embedding = np.mean((valid_embeddings), axis=0)\n",
        "    else:\n",
        "\n",
        "\n",
        "    movie_embeddings.append(movie_embedding)\n",
        "\n",
        "\n",
        "movie_embeddings_df = pd.DataFrame(movie_embeddings, columns=[f'movie_embed_{i}' for i in range(80)])\n",
        "\n",
        "\n",
        "df_final = pd.concat([df.reset_index(drop=True), movie_embeddings_df], axis=1)\n"
      ]
    },
    {
      "cell_type": "code",
      "execution_count": null,
      "metadata": {
        "id": "C3vD5gDqL3aG"
      },
      "outputs": [],
      "source": [
        "df_final.to_csv('movie_dataset_with_embeddings.csv', index=False)"
      ]
    },
    {
      "cell_type": "code",
      "execution_count": null,
      "metadata": {
        "id": "tWWKC2fuR2l-"
      },
      "outputs": [],
      "source": [
        "df_final.columns"
      ]
    },
    {
      "cell_type": "markdown",
      "source": [
        "Prediction\n"
      ],
      "metadata": {
        "id": "IYMTvKyq8MNJ"
      }
    },
    {
      "cell_type": "code",
      "source": [
        "import pandas as pd\n",
        "import numpy as np\n",
        "import networkx as nx\n",
        "from sklearn.model_selection import train_test_split\n",
        "from sklearn.preprocessing import LabelEncoder\n",
        "from sklearn.ensemble import RandomForestClassifier, GradientBoostingClassifier\n",
        "from sklearn.tree import DecisionTreeClassifier\n",
        "from sklearn.metrics import accuracy_score, classification_report\n",
        "from sklearn.neural_network import MLPClassifier"
      ],
      "metadata": {
        "id": "tYBhnkSgT_Yl"
      },
      "execution_count": null,
      "outputs": []
    },
    {
      "cell_type": "code",
      "source": [
        "G = nx.read_gml('/content/sample_data/movie_collaboration_graph.gml')\n",
        "\n",
        "num_edges = G.number_of_edges()\n",
        "\n",
        "num_nodes = G.number_of_nodes()\n",
        "\n",
        "average_clustering = nx.average_clustering(G)\n",
        "\n",
        "print(f\"Number of nodes: {num_nodes}\")\n",
        "print(f\"Number of edges: {num_edges}\")\n",
        "print(f\"Average clustering coefficient: {average_clustering}\")\n"
      ],
      "metadata": {
        "id": "grSUjzrzbW0T"
      },
      "execution_count": null,
      "outputs": []
    },
    {
      "cell_type": "code",
      "execution_count": null,
      "metadata": {
        "id": "xepBRHG2R5TD"
      },
      "outputs": [],
      "source": [
        "df_original=pd.read_csv('/content/sample_data/imdb_1000_final_dataset.csv')\n",
        "df_embedded=pd.read_csv('/content/sample_data/movie_dataset_with_embeddings.csv')"
      ]
    },
    {
      "cell_type": "code",
      "source": [
        "df_original.columns"
      ],
      "metadata": {
        "colab": {
          "base_uri": "https://localhost:8080/"
        },
        "id": "xr1JMofSPrd-",
        "outputId": "0effe97a-7717-47db-b5f0-3298276251e1"
      },
      "execution_count": null,
      "outputs": [
        {
          "output_type": "execute_result",
          "data": {
            "text/plain": [
              "Index(['Poster_Link', 'Series_Title', 'Released_Year', 'Certificate',\n",
              "       'Runtime', 'Genre', 'IMDB_Rating', 'Overview', 'Meta_score', 'Director',\n",
              "       'Star1', 'Star2', 'Star3', 'Star4', 'No_of_Votes', 'Gross',\n",
              "       'Casting Director', 'IMDb_id', 'TMDB_ID', 'Budget', 'Revenue',\n",
              "       'Movie_Success'],\n",
              "      dtype='object')"
            ]
          },
          "metadata": {},
          "execution_count": 7
        }
      ]
    },
    {
      "cell_type": "code",
      "source": [
        "df_embedded.columns"
      ],
      "metadata": {
        "colab": {
          "base_uri": "https://localhost:8080/"
        },
        "id": "TXtnpHodQhpE",
        "outputId": "b843ab71-1df4-4c1c-c7c7-97a5a30feca2"
      },
      "execution_count": null,
      "outputs": [
        {
          "output_type": "execute_result",
          "data": {
            "text/plain": [
              "Index(['Poster_Link', 'Series_Title', 'Released_Year', 'Certificate',\n",
              "       'Runtime', 'Genre', 'IMDB_Rating', 'Overview', 'Meta_score', 'Director',\n",
              "       ...\n",
              "       'movie_embed_70', 'movie_embed_71', 'movie_embed_72', 'movie_embed_73',\n",
              "       'movie_embed_74', 'movie_embed_75', 'movie_embed_76', 'movie_embed_77',\n",
              "       'movie_embed_78', 'movie_embed_79'],\n",
              "      dtype='object', length=102)"
            ]
          },
          "metadata": {},
          "execution_count": 9
        }
      ]
    },
    {
      "cell_type": "code",
      "source": [
        "le = LabelEncoder()"
      ],
      "metadata": {
        "id": "NCwoyJaB_cyr"
      },
      "execution_count": null,
      "outputs": []
    },
    {
      "cell_type": "code",
      "source": [
        "df_original = df_original.drop(columns=['Poster_Link', 'Series_Title', 'Genre', 'Overview'])\n",
        "\n",
        "\n",
        "df_original['Movie_Success'] = le.fit_transform(df_original['Movie_Success'])\n",
        "\n",
        "\n",
        "categorical_cols = df_original.select_dtypes(include=['object']).columns\n",
        "for col in categorical_cols:\n",
        "    df_original[col] = df_original[col].astype(str)\n",
        "    df_original[col] = le.fit_transform(df_original[col])\n",
        "\n",
        "df_original = df_original.fillna(df_original.mean())\n",
        "\n",
        "\n",
        "X_og = df_original.drop(columns=['Movie_Success'])\n",
        "y_og = df_original['Movie_Success']\n",
        "\n",
        "\n",
        "X_train_og, X_test_og, y_train_og, y_test_og = train_test_split(X_og, y_og, test_size=0.2, random_state=42)"
      ],
      "metadata": {
        "id": "78Wjc1td_YFS"
      },
      "execution_count": null,
      "outputs": []
    },
    {
      "cell_type": "code",
      "source": [
        "\n",
        "df_embedded = df_embedded.drop(columns=['Poster_Link', 'Series_Title', 'Genre', 'Overview'])\n",
        "\n",
        "\n",
        "df_embedded['Movie_Success'] = le.fit_transform(df_embedded['Movie_Success'])\n",
        "\n",
        "\n",
        "categorical_cols = df_embedded.select_dtypes(include=['object']).columns\n",
        "for col in categorical_cols:\n",
        "    df_embedded[col] = df_embedded[col].astype(str)\n",
        "    df_embedded[col] = le.fit_transform(df_embedded[col])\n",
        "\n",
        "\n",
        "df_embedded = df_embedded.fillna(df_embedded.mean())\n",
        "\n",
        "\n",
        "X_embed = df_embedded.drop(columns=['Movie_Success'])\n",
        "y_embed = df_embedded['Movie_Success']\n",
        "\n",
        "\n",
        "X_train_embed, X_test_embed, y_train_embed, y_test_embed = train_test_split(X_embed, y_embed, test_size=0.2, random_state=42)"
      ],
      "metadata": {
        "id": "dtUiRlju_g65"
      },
      "execution_count": null,
      "outputs": []
    },
    {
      "cell_type": "code",
      "source": [
        "\n",
        "random_forest = RandomForestClassifier(random_state=42)\n",
        "gradient_boosting = GradientBoostingClassifier(random_state=42)\n",
        "decision_tree = DecisionTreeClassifier(random_state=42)\n",
        "neural_network = MLPClassifier(hidden_layer_sizes=(100,), max_iter=500, random_state=42)"
      ],
      "metadata": {
        "id": "xUp5iA9p_kdi"
      },
      "execution_count": null,
      "outputs": []
    },
    {
      "cell_type": "code",
      "source": [
        "print(\"Results on Movie Dataset:\")\n",
        "\n",
        "# Random Forest\n",
        "random_forest.fit(X_train_og, y_train_og)\n",
        "y_pred_og_rf = random_forest.predict(X_test_og)\n",
        "accuracy_og_rf = accuracy_score(y_test_og, y_pred_og_rf)\n",
        "report_og_rf = classification_report(y_test_og, y_pred_og_rf)\n",
        "print(f\"\\nModel: Random Forest\")\n",
        "print(f\"Accuracy: {accuracy_og_rf:.4f}\")\n",
        "print(f\"Classification Report:\\n{report_og_rf}\")\n",
        "\n",
        "# Gradient Boosting\n",
        "gradient_boosting.fit(X_train_og, y_train_og)\n",
        "y_pred_og_gb = gradient_boosting.predict(X_test_og)\n",
        "accuracy_og_gb = accuracy_score(y_test_og, y_pred_og_gb)\n",
        "report_og_gb = classification_report(y_test_og, y_pred_og_gb)\n",
        "print(f\"\\nModel: Gradient Boosting\")\n",
        "print(f\"Accuracy: {accuracy_og_gb:.4f}\")\n",
        "print(f\"Classification Report:\\n{report_og_gb}\")\n",
        "\n",
        "# Decision Tree\n",
        "decision_tree.fit(X_train_og, y_train_og)\n",
        "y_pred_og_dt = decision_tree.predict(X_test_og)\n",
        "accuracy_og_dt = accuracy_score(y_test_og, y_pred_og_dt)\n",
        "report_og_dt = classification_report(y_test_og, y_pred_og_dt)\n",
        "print(f\"\\nModel: Decision Tree\")\n",
        "print(f\"Accuracy: {accuracy_og_dt:.4f}\")\n",
        "print(f\"Classification Report:\\n{report_og_dt}\")\n",
        "\n",
        "# Neural Network\n",
        "neural_network.fit(X_train_og, y_train_og)\n",
        "y_pred_og_nn = neural_network.predict(X_test_og)\n",
        "accuracy_og_nn = accuracy_score(y_test_og, y_pred_og_nn)\n",
        "report_og_nn = classification_report(y_test_og, y_pred_og_nn)\n",
        "print(f\"\\nModel: Neural Network\")\n",
        "print(f\"Accuracy: {accuracy_og_nn:.4f}\")\n",
        "print(f\"Classification Report:\\n{report_og_nn}\")"
      ],
      "metadata": {
        "colab": {
          "base_uri": "https://localhost:8080/"
        },
        "id": "jApM3tReAzJT",
        "outputId": "e952e3a7-70fc-4c9d-f3e9-b014798d3520"
      },
      "execution_count": null,
      "outputs": [
        {
          "output_type": "stream",
          "name": "stdout",
          "text": [
            "Results on Movie Dataset:\n",
            "\n",
            "Model: Random Forest\n",
            "Accuracy: 0.8000\n",
            "Classification Report:\n",
            "              precision    recall  f1-score   support\n",
            "\n",
            "           0       0.76      0.63      0.69        70\n",
            "           1       0.82      0.89      0.85       130\n",
            "\n",
            "    accuracy                           0.80       200\n",
            "   macro avg       0.79      0.76      0.77       200\n",
            "weighted avg       0.80      0.80      0.80       200\n",
            "\n",
            "\n",
            "Model: Gradient Boosting\n",
            "Accuracy: 0.8150\n",
            "Classification Report:\n",
            "              precision    recall  f1-score   support\n",
            "\n",
            "           0       0.76      0.69      0.72        70\n",
            "           1       0.84      0.88      0.86       130\n",
            "\n",
            "    accuracy                           0.81       200\n",
            "   macro avg       0.80      0.79      0.79       200\n",
            "weighted avg       0.81      0.81      0.81       200\n",
            "\n",
            "\n",
            "Model: Decision Tree\n",
            "Accuracy: 0.7600\n",
            "Classification Report:\n",
            "              precision    recall  f1-score   support\n",
            "\n",
            "           0       0.64      0.73      0.68        70\n",
            "           1       0.84      0.78      0.81       130\n",
            "\n",
            "    accuracy                           0.76       200\n",
            "   macro avg       0.74      0.75      0.74       200\n",
            "weighted avg       0.77      0.76      0.76       200\n",
            "\n",
            "\n",
            "Model: Neural Network\n",
            "Accuracy: 0.7800\n",
            "Classification Report:\n",
            "              precision    recall  f1-score   support\n",
            "\n",
            "           0       0.70      0.64      0.67        70\n",
            "           1       0.82      0.85      0.83       130\n",
            "\n",
            "    accuracy                           0.78       200\n",
            "   macro avg       0.76      0.75      0.75       200\n",
            "weighted avg       0.78      0.78      0.78       200\n",
            "\n"
          ]
        }
      ]
    },
    {
      "cell_type": "code",
      "source": [
        "print(\"\\nResults on Movie Dataset With embeddings:\")\n",
        "\n",
        "# Random Forest\n",
        "random_forest.fit(X_train_embed, y_train_embed)\n",
        "y_pred_embed_rf = random_forest.predict(X_test_embed)\n",
        "accuracy_embed_rf = accuracy_score(y_test_embed, y_pred_embed_rf)\n",
        "report_embed_rf = classification_report(y_test_embed, y_pred_embed_rf)\n",
        "print(f\"\\nModel: Random Forest\")\n",
        "print(f\"Accuracy: {accuracy_embed_rf:.4f}\")\n",
        "print(f\"Classification Report:\\n{report_embed_rf}\")\n",
        "\n",
        "# Gradient Boosting\n",
        "gradient_boosting.fit(X_train_embed, y_train_embed)\n",
        "y_pred_embed_gb = gradient_boosting.predict(X_test_embed)\n",
        "accuracy_embed_gb = accuracy_score(y_test_embed, y_pred_embed_gb)\n",
        "report_embed_gb = classification_report(y_test_embed, y_pred_embed_gb)\n",
        "print(f\"\\nModel: Gradient Boosting\")\n",
        "print(f\"Accuracy: {accuracy_embed_gb:.4f}\")\n",
        "print(f\"Classification Report:\\n{report_embed_gb}\")\n",
        "\n",
        "# Decision Tree\n",
        "decision_tree.fit(X_train_embed, y_train_embed)\n",
        "y_pred_embed_dt = decision_tree.predict(X_test_embed)\n",
        "accuracy_embed_dt = accuracy_score(y_test_embed, y_pred_embed_dt)\n",
        "report_embed_dt = classification_report(y_test_embed, y_pred_embed_dt)\n",
        "print(f\"\\nModel: Decision Tree\")\n",
        "print(f\"Accuracy: {accuracy_embed_dt:.4f}\")\n",
        "print(f\"Classification Report:\\n{report_embed_dt}\")\n",
        "\n",
        "# Neural Network\n",
        "neural_network.fit(X_train_embed, y_train_embed)\n",
        "y_pred_embed_nn = neural_network.predict(X_test_embed)\n",
        "accuracy_embed_nn = accuracy_score(y_test_embed, y_pred_embed_nn)\n",
        "report_embed_nn = classification_report(y_test_embed, y_pred_embed_nn)\n",
        "print(f\"\\nModel: Neural Network\")\n",
        "print(f\"Accuracy: {accuracy_embed_nn:.4f}\")\n",
        "print(f\"Classification Report:\\n{report_embed_nn}\")"
      ],
      "metadata": {
        "colab": {
          "base_uri": "https://localhost:8080/"
        },
        "id": "zIxSzgMA-KXP",
        "outputId": "40be9326-66a9-4aec-c98c-a0a60f4ffc00"
      },
      "execution_count": null,
      "outputs": [
        {
          "output_type": "stream",
          "name": "stdout",
          "text": [
            "\n",
            "Results on Movie Dataset With embeddings:\n",
            "\n",
            "Model: Random Forest\n",
            "Accuracy: 0.7750\n",
            "Classification Report:\n",
            "              precision    recall  f1-score   support\n",
            "\n",
            "           0       0.70      0.61      0.66        70\n",
            "           1       0.81      0.86      0.83       130\n",
            "\n",
            "    accuracy                           0.78       200\n",
            "   macro avg       0.76      0.74      0.74       200\n",
            "weighted avg       0.77      0.78      0.77       200\n",
            "\n",
            "\n",
            "Model: Gradient Boosting\n",
            "Accuracy: 0.8400\n",
            "Classification Report:\n",
            "              precision    recall  f1-score   support\n",
            "\n",
            "           0       0.84      0.67      0.75        70\n",
            "           1       0.84      0.93      0.88       130\n",
            "\n",
            "    accuracy                           0.84       200\n",
            "   macro avg       0.84      0.80      0.81       200\n",
            "weighted avg       0.84      0.84      0.84       200\n",
            "\n",
            "\n",
            "Model: Decision Tree\n",
            "Accuracy: 0.7650\n",
            "Classification Report:\n",
            "              precision    recall  f1-score   support\n",
            "\n",
            "           0       0.66      0.69      0.67        70\n",
            "           1       0.83      0.81      0.82       130\n",
            "\n",
            "    accuracy                           0.77       200\n",
            "   macro avg       0.74      0.75      0.74       200\n",
            "weighted avg       0.77      0.77      0.77       200\n",
            "\n",
            "\n",
            "Model: Neural Network\n",
            "Accuracy: 0.8150\n",
            "Classification Report:\n",
            "              precision    recall  f1-score   support\n",
            "\n",
            "           0       0.75      0.70      0.73        70\n",
            "           1       0.84      0.88      0.86       130\n",
            "\n",
            "    accuracy                           0.81       200\n",
            "   macro avg       0.80      0.79      0.79       200\n",
            "weighted avg       0.81      0.81      0.81       200\n",
            "\n"
          ]
        }
      ]
    },
    {
      "cell_type": "code",
      "source": [
        "import matplotlib.pyplot as plt\n",
        "import numpy as np\n",
        "\n",
        "\n",
        "models = ['Random Forest', 'Gradient Boosting', 'Decision Tree', 'Neural Network']\n",
        "\n",
        "\n",
        "accuracy_movie = [accuracy_og_rf, accuracy_og_gb, accuracy_og_dt, accuracy_og_nn]\n",
        "accuracy_embed = [accuracy_embed_rf, accuracy_embed_gb, accuracy_embed_dt, accuracy_embed_nn]\n",
        "\n",
        "\n",
        "fig, ax = plt.subplots(figsize=(12, 6))\n",
        "\n",
        "\n",
        "bar_width = 0.35\n",
        "index = np.arange(len(models))\n",
        "\n",
        "\n",
        "bar1 = ax.bar(index, accuracy_movie, bar_width, label='Movie Dataset')\n",
        "bar2 = ax.bar(index + bar_width, accuracy_embed, bar_width, label='Movie Dataset with Embeddings')\n",
        "\n",
        "\n",
        "ax.set_xlabel('Model')\n",
        "ax.set_ylabel('Accuracy')\n",
        "ax.set_title('Model Performance Comparison')\n",
        "ax.set_xticks(index + bar_width / 2)\n",
        "ax.set_xticklabels(models)\n",
        "ax.legend(loc=\"lower right\")\n",
        "\n",
        "for i, v in enumerate(accuracy_movie):\n",
        "    ax.text(i, v + 0.01, f\"{v:.2f}\", ha='center')\n",
        "\n",
        "for i, v in enumerate(accuracy_embed):\n",
        "    ax.text(i + bar_width, v + 0.01, f\"{v:.2f}\", ha='center')\n",
        "\n",
        "plt.tight_layout()\n",
        "plt.show()"
      ],
      "metadata": {
        "colab": {
          "base_uri": "https://localhost:8080/",
          "height": 569
        },
        "id": "7nDsTjzSBw2V",
        "outputId": "48f47603-0c0d-4a3f-94b5-f52c59070e0f"
      },
      "execution_count": null,
      "outputs": [
        {
          "output_type": "display_data",
          "data": {
            "text/plain": [
              "<Figure size 1200x600 with 1 Axes>"
            ],
            "image/png": "[encoded data removed]"
          },
          "metadata": {}
        }
      ]
    },
    {
      "cell_type": "code",
      "source": [
        "models = ['Random Forest', 'Gradient Boosting', 'Decision Tree', 'Neural Network']\n",
        "\n",
        "percentage_gain = [\n",
        "    ((embed - movie) / movie) * 100 if movie != 0 else 0\n",
        "    for embed, movie in zip(accuracy_embed, accuracy_movie)\n",
        "]\n",
        "\n",
        "for model, gain in zip(models, percentage_gain):\n",
        "    print(f\"{model}: {gain:.2f}% gain in accuracy with embeddings\")\n"
      ],
      "metadata": {
        "colab": {
          "base_uri": "https://localhost:8080/"
        },
        "id": "yqA2cgRqZEoV",
        "outputId": "5fe6b8ba-61cc-4ad7-e5fe-61e76b4415c7"
      },
      "execution_count": null,
      "outputs": [
        {
          "output_type": "stream",
          "name": "stdout",
          "text": [
            "Random Forest: -3.13% gain in accuracy with embeddings\n",
            "Gradient Boosting: 3.07% gain in accuracy with embeddings\n",
            "Decision Tree: 0.66% gain in accuracy with embeddings\n",
            "Neural Network: 4.49% gain in accuracy with embeddings\n"
          ]
        }
      ]
    }
  ],
  "metadata": {
    "colab": {
      "provenance": []
    },
    "kernelspec": {
      "display_name": "Python 3",
      "name": "python3"
    },
    "language_info": {
      "name": "python"
    }
  },
  "nbformat": 4,
  "nbformat_minor": 0
}